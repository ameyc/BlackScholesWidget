{
 "cells": [
  {
   "cell_type": "code",
   "execution_count": null,
   "metadata": {
    "collapsed": false,
    "ezpublish": {
     "type": "show"
    }
   },
   "outputs": [],
   "source": [
    "%load_ext autoreload\n",
    "%autoreload 2\n",
    "\n",
    "from IPython.display import display, HTML, Javascript, clear_output\n",
    "from notebook_js import toggle_code_cells, restart_kernel, run_all_cells, init_notebook\n",
    "\n",
    "toggle_code_cells(init='Hide')\n",
    "# restart_kernel()\n",
    "# run_all_cells()\n",
    "init_notebook()\n"
   ]
  },
  {
   "cell_type": "code",
   "execution_count": null,
   "metadata": {
    "collapsed": false,
    "ezpublish": {
     "type": "show"
    }
   },
   "outputs": [],
   "source": [
    "from blackscholes_widget import BlackScholesWidget\n",
    "\n",
    "bsw = BlackScholesWidget()\n",
    "clear_output()\n",
    "bsw.form"
   ]
  }
 ],
 "metadata": {
  "kernelspec": {
   "display_name": "Python 2",
   "language": "python",
   "name": "python2"
  },
  "language_info": {
   "codemirror_mode": {
    "name": "ipython",
    "version": 2
   },
   "file_extension": ".py",
   "mimetype": "text/x-python",
   "name": "python",
   "nbconvert_exporter": "python",
   "pygments_lexer": "ipython2",
   "version": "2.7.12"
  }
 },
 "nbformat": 4,
 "nbformat_minor": 0
}
