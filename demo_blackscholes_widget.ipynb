{
 "cells": [
  {
   "cell_type": "code",
   "execution_count": 1,
   "metadata": {
    "collapsed": false,
    "ezpublish": {
     "type": "show"
    }
   },
   "outputs": [
    {
     "data": {
      "text/html": [
       "\n",
       "<form action=\"javascript:toggle_code_cells()\">\n",
       "    <input type=\"submit\" id=\"toggleButton\" value=\"Hide Code\">\n",
       "</form>\n",
       "\n",
       "<script>\n",
       "function toggle_code_cells() {\n",
       "\n",
       "    if (code_shown){\n",
       "        $('div.input').hide('200');\n",
       "        $('div.prompt.output_prompt').delay('200').css('visibility', 'hidden');\n",
       "        $('div.out_prompt_overlay.prompt').delay('200').css('visibility', 'hidden');\n",
       "      \n",
       "        $('#toggleButton').val('Show Code')\n",
       "    } else {\n",
       "        $('div.input').show('200');\n",
       "        $('div.prompt.output_prompt').delay('200').css('visibility', 'visible');\n",
       "        $('div.out_prompt_overlay.prompt').delay('200').css('visibility', 'visible');\n",
       "\n",
       "        $('#toggleButton').val('Hide Code')\n",
       "    }\n",
       "    code_shown = !code_shown;\n",
       "}\n",
       "\n",
       "$( document ).ready(function(){\n",
       "    code_shown = true;\n",
       "\n",
       "    $('div.input').show();\n",
       "    $('div.prompt.output_prompt').delay('200').css('visibility', 'visible');\n",
       "    $('div.out_prompt_overlay.prompt').delay('200').css('visibility', 'visible');\n",
       "});\n",
       "</script>"
      ],
      "text/plain": [
       "<IPython.core.display.HTML object>"
      ]
     },
     "metadata": {},
     "output_type": "display_data"
    },
    {
     "data": {
      "text/html": [
       "\n",
       "<form action=\"javascript:init_notebook()\">\n",
       "    <input type=\"submit\" id=\"initNotebook\" value=\"Init Notebook\">\n",
       "</form>\n",
       "<script>\n",
       "function init_notebook() {\n",
       "    IPython.notebook.kernel.restart();\n",
       "    $(IPython.events).one(  'kernel_ready.Kernel',\n",
       "                            function(){ IPython.notebook.execute_all_cells(); }\n",
       "    );\n",
       "}\n",
       "</script>"
      ],
      "text/plain": [
       "<IPython.core.display.HTML object>"
      ]
     },
     "metadata": {},
     "output_type": "display_data"
    }
   ],
   "source": [
    "%load_ext autoreload\n",
    "%autoreload 2\n",
    "\n",
    "from IPython.display import display, HTML, Javascript, clear_output\n",
    "from notebook_js import toggle_code_cells, restart_kernel, run_all_cells, init_notebook, jupyter_credit\n",
    "\n",
    "toggle_code_cells(init='Show')\n",
    "init_notebook()\n"
   ]
  },
  {
   "cell_type": "code",
   "execution_count": 2,
   "metadata": {
    "collapsed": false,
    "ezpublish": {
     "type": "show"
    }
   },
   "outputs": [],
   "source": [
    "from blackscholes_widget import BlackScholesWidget\n",
    "\n",
    "bsw = BlackScholesWidget()\n",
    "clear_output()\n",
    "bsw.form"
   ]
  },
  {
   "cell_type": "markdown",
   "metadata": {},
   "source": [
    "## Reference BlackScholes formulae\n",
    "\n",
    "### Inputs\n",
    "\n",
    "| Input | Symbol | \n",
    "|:---|:---:|:---:|\n",
    "| Spot in currency | $$S$$ |\n",
    "| Strike in the same unit as Spot | $$K$$ | \n",
    "| Maturity in years | $$T$$ | \n",
    "| Volatility in % e.g. 15%=0.15 | $$\\sigma$$ | \n",
    "| Risk free interest rate in % e.g. 1.5%=0.015 | $$r$$ | \n",
    "| Continuous dividend rate in % e.g. 2%=0.02 | $$q$$ | \n",
    "  \n",
    "### Outputs\n",
    "\n",
    "\n",
    "| **Option** | **Call** | **Put** |\n",
    "| :--------: |:--------:|:-------:|\n",
    "| $$Payoff$$   | $$Max(0, S-K)$$  | $$Max(0, K-S)$$   |\n",
    "| $$Value=V$$   | $$Se^{-qT}N(d_1)-Ke^{-rT}N(d_2)$$  | $$Ke^{-rT}N(-d_2)-Se^{-qT}N(-d_1)$$   |\n",
    "| $$\\Delta=\\frac{\\partial V}{\\partial S}$$   | $$e^{-qT}N(d_1)$$  | $$-e^{-qT}N(-d_1)$$   |\n",
    "| $$\\Gamma=\\frac{\\partial \\Delta}{\\partial S}$$   | $$e^{-qT}\\frac{N'(d_1)}{S\\sigma\\sqrt{T}}$$  | $$e^{-qT}\\frac{N'(d_1)}{S\\sigma\\sqrt{T}}$$   |\n",
    "| $$\\nu=\\frac{\\partial V}{\\partial \\sigma}$$   | $$Se^{-qT}N'(d_1)\\sqrt{T}=Ke^{-rT}N'(d_2)\\sqrt{T}$$  | $$Se^{-qT}N'(d_1)\\sqrt{T}=Ke^{-rT}N'(d_2)\\sqrt{T}$$   |\n",
    "| $$\\Theta=-\\frac{\\partial V}{\\partial T}$$   | $$-e^{qT}\\frac{SN'(d_1)\\sigma}{2\\sqrt{T}}-rKe^{-rT}N(d_2)+qSe^{-qT}N(d_1)$$  | $$-e^{qT}\\frac{SN'(d_1)\\sigma}{2\\sqrt{T}}+rKe^{-rT}N(-d_2)-qSe^{-qT}N(-d_1)$$   |\n",
    "| $$\\rho=\\frac{\\partial V}{\\partial r}$$   | $$KTe^{-rT}N(d_2)$$  | $$-KTe^{-rT}N(-d_2)$$   |\n",
    "| $$Voma=\\frac{\\partial\\nu}{\\partial \\sigma}$$   | $$Se^{-qT}N'(d_1)\\sqrt{T}\\frac{d_1 d_2}{\\sigma}$$  | $$Se^{-qT}N'(d_1)\\sqrt{T}\\frac{d_1 d_2}{\\sigma}$$   |\n",
    "\n",
    "### with\n",
    "\n",
    "$$\\frac{\\partial V}{\\partial t} + rS\\frac{\\partial V}{\\partial S} + \\frac{1}{2}\\sigma^2S^2\\frac{\\partial^2 V}{\\partial S^2}=rV$$\n",
    "\n",
    "$$d_1=\\frac{\\log(S/K) + (r-q +\\sigma^2/2)T}{\\sigma \\sqrt{T}}$$\n",
    "\n",
    "$$d_2=\\frac{\\log(S/K) + (r-q -\\sigma^2/2)T}{\\sigma \\sqrt{T}}=d_1 - \\sigma \\sqrt{T - t}$$\n",
    "\n",
    "$$N(x)=\\frac{1}{\\sqrt{2\\pi}}\\int_{-\\infty}^{x} e^{-\\frac{t^{2}}{2}}dt$$\n",
    "\n",
    "$$N'(x)=\\frac{1}{\\sqrt{2\\pi}}e^{-\\frac{x^{2}}{2}}$$"
   ]
  },
  {
   "cell_type": "code",
   "execution_count": 3,
   "metadata": {
    "collapsed": false
   },
   "outputs": [
    {
     "data": {
      "text/html": [
       "\n",
       "<footer id=\"jupyter_credit\" style=\"float:right; color:#999; background:#fff;\">\n",
       "    Created with <a href=\"http://jupyter.org/\">Jupyter</a>.\n",
       "</footer><script>\n",
       "function jupyter_credit() {\n",
       "    // nothing to do\n",
       "}\n",
       "\n",
       "$( document ).ready(function(){\n",
       "    jupyter_credit();\n",
       "});\n",
       "</script>"
      ],
      "text/plain": [
       "<IPython.core.display.HTML object>"
      ]
     },
     "metadata": {},
     "output_type": "display_data"
    }
   ],
   "source": [
    "jupyter_credit()"
   ]
  }
 ],
 "metadata": {
  "kernelspec": {
   "display_name": "Python 2",
   "language": "python",
   "name": "python2"
  },
  "language_info": {
   "codemirror_mode": {
    "name": "ipython",
    "version": 2
   },
   "file_extension": ".py",
   "mimetype": "text/x-python",
   "name": "python",
   "nbconvert_exporter": "python",
   "pygments_lexer": "ipython2",
   "version": "2.7.12"
  },
  "widgets": {
   "state": {
    "91c7283a43d240899914e8ffcbfcef3d": {
     "views": [
      {
       "cell_index": 1
      }
     ]
    }
   },
   "version": "1.2.0"
  }
 },
 "nbformat": 4,
 "nbformat_minor": 0
}
